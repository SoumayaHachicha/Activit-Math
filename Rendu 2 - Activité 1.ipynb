{
 "cells": [
  {
   "cell_type": "code",
   "execution_count": 5,
   "metadata": {},
   "outputs": [
    {
     "name": "stdout",
     "output_type": "stream",
     "text": [
      "U0 = 1.0\n",
      "U1 = 1.5\n",
      "U2 = 2.25\n",
      "U3 = 3.375\n"
     ]
    }
   ],
   "source": [
    "def eulermethod(n, f0, h=0.5):\n",
    "\n",
    "\n",
    "    for i in range(n + 1):\n",
    "        Ui = (1 + h) ** i * f0\n",
    "        print(f\"U{i} = {Ui}\")\n",
    "\n",
    "\n",
    "n = 3\n",
    "f0 = 1 \n",
    "eulermethod(n, f0)"
   ]
  },
  {
   "cell_type": "code",
   "execution_count": 7,
   "metadata": {},
   "outputs": [
    {
     "name": "stdout",
     "output_type": "stream",
     "text": [
      "U0 = 1.0, Vraie valeur = 1.0, Erreur = 0.0\n",
      "U1 = 1.5, Vraie valeur = 1.6487212707001282, Erreur = 0.1487212707001282\n",
      "U2 = 2.25, Vraie valeur = 2.718281828459045, Erreur = 0.4682818284590451\n",
      "U3 = 3.375, Vraie valeur = 4.4816890703380645, Erreur = 1.1066890703380645\n"
     ]
    }
   ],
   "source": [
    "import math\n",
    "\n",
    "\" avec les valeurs vrai \"\n",
    "def euler_method(n, f0, h=0.5):\n",
    "    for i in range(n + 1):\n",
    "        Ui = (1 + h) ** i * f0\n",
    "        true_value = math.exp(i * h) * f0\n",
    "        erreur = abs(Ui - true_value)\n",
    "        print(f\"U{i} = {Ui}, Vraie valeur = {true_value}, Erreur = {erreur}\")\n",
    "\n",
    "n = 3\n",
    "f0 = 1\n",
    "euler_method(n, f0)"
   ]
  },
  {
   "cell_type": "code",
   "execution_count": 17,
   "metadata": {},
   "outputs": [
    {
     "name": "stdout",
     "output_type": "stream",
     "text": [
      "t_n\tErreur^2\n",
      "0.0\t0.000000\n",
      "0.1\t0.000027\n",
      "0.2\t0.000130\n",
      "0.3\t0.000356\n",
      "0.4\t0.000769\n",
      "0.5\t0.001460\n",
      "0.6\t0.002556\n",
      "0.7\t0.004230\n",
      "0.8\t0.006716\n",
      "0.9\t0.010334\n",
      "1.0\t0.015510\n",
      "1.1\t0.022816\n",
      "1.2\t0.033011\n",
      "1.3\t0.047100\n",
      "1.4\t0.066410\n",
      "1.5\t0.092684\n",
      "1.6\t0.128207\n",
      "1.7\t0.175961\n",
      "1.8\t0.239836\n",
      "1.9\t0.324883\n",
      "2.0\t0.437657\n"
     ]
    }
   ],
   "source": [
    "import math\n",
    "\n",
    "def euler_method(n, f0, h=0.5):\n",
    "    valeurs = []\n",
    "    for i in range(n + 1):\n",
    "        Ui = (1 + h) ** i * f0\n",
    "        valeurs.append(Ui)\n",
    "    return valeurs\n",
    "\n",
    "\n",
    "def calculer_erreurs_carrees(n, f0, h=0.5):\n",
    "    \"\"\" Calcule l'erreur au carré (approximation - vraie valeur)^2 pour chaque point \"\"\"\n",
    "    valeurs_euler = euler_method(n, f0, h)  \n",
    "    erreurs = []\n",
    "    \n",
    "    for i in range(n + 1):\n",
    "        t_n = i * h\n",
    "        vrai_resultat = math.exp(t_n) * f0  \n",
    "        erreur_carre = (valeurs_euler[i] - vrai_resultat) ** 2  \n",
    "        erreurs.append((t_n, erreur_carre))\n",
    "    \n",
    "    return erreurs\n",
    "\n",
    "h = 0.1  \n",
    "t_max = 2  \n",
    "n = int(t_max / h) \n",
    "f0 = 1  \n",
    "\n",
    "erreurs_carrees = calculer_erreurs_carrees(n, f0, h)\n",
    "\n",
    "print(\"t_n\\tErreur^2\")\n",
    "for t_n, erreur in erreurs_carrees:\n",
    "    print(f\"{t_n:.1f}\\t{erreur:.6f}\")"
   ]
  }
 ],
 "metadata": {
  "kernelspec": {
   "display_name": "Python 3",
   "language": "python",
   "name": "python3"
  },
  "language_info": {
   "codemirror_mode": {
    "name": "ipython",
    "version": 3
   },
   "file_extension": ".py",
   "mimetype": "text/x-python",
   "name": "python",
   "nbconvert_exporter": "python",
   "pygments_lexer": "ipython3",
   "version": "3.10.12"
  }
 },
 "nbformat": 4,
 "nbformat_minor": 2
}
